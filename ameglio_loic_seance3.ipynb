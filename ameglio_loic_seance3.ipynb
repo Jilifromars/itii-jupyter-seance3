{
 "cells": [
  {
   "cell_type": "code",
   "execution_count": null,
   "metadata": {
    "scrolled": true
   },
   "outputs": [],
   "source": [
    "#Exercice 1\n",
    "import matplotlib.pyplot as plt\n",
    "import numpy as np\n",
    "def f(x) :\n",
    "    return x**3+2*x-2\n",
    "\n",
    "def dichotomie(a,b,n) :\n",
    "    for i in range(0,n):\n",
    "        x = (a+b)/2\n",
    "        if (f(a)*f(b))>=0:\n",
    "                a = x\n",
    "        else:\n",
    "                b = x\n",
    "        i += 1\n",
    "    print ((a+b)/2)\n",
    "\n",
    "a = int(input(\"Saisir la borne inférieure de l'intervalle\"))\n",
    "b = int(input(\"Saisir la borne supérieure de l'intervalle\"))\n",
    "n = int(input(\"Saisir la précision\"))\n",
    "\n",
    "dichotomie(a,b,n)\n",
    "\n",
    "#Créer une liste de 0 à 1 avec un incrément de 0.01\n",
    "x_list = np.arrange(0,1,0.01)\n",
    "#On trace la courbe\n",
    "plt.plot(x_list, f(x_list))\n",
    "plt.show"
   ]
  },
  {
   "cell_type": "code",
   "execution_count": null,
   "metadata": {},
   "outputs": [],
   "source": [
    "#Exercice 2\n",
    "import random as rd\n",
    "\n",
    "def carre_aleatoire(n) :\n",
    "    row = []\n",
    "    for i in range (0,n-1):\n",
    "        for x in range (0, n-1)\n",
    "        a = rd.randint(1,2)\n",
    "        row.append([a])\n",
    "        \n",
    "        \n",
    "row = np.asarray(row)\n",
    "    "
   ]
  }
 ],
 "metadata": {
  "kernelspec": {
   "display_name": "Python 3",
   "language": "python",
   "name": "python3"
  }
 },
 "nbformat": 4,
 "nbformat_minor": 4
}
